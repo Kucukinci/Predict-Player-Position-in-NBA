{
 "cells": [
  {
   "cell_type": "markdown",
   "id": "80f9b779",
   "metadata": {},
   "source": [
    "# 2021-2022 NBA Player Stats DataSet"
   ]
  },
  {
   "cell_type": "markdown",
   "id": "0ea8e0d2",
   "metadata": {},
   "source": [
    "## Veri Seti Hikayesi"
   ]
  },
  {
   "cell_type": "markdown",
   "id": "f086a084",
   "metadata": {},
   "source": [
    "## Veri Setinin Öznitelikleri"
   ]
  },
  {
   "cell_type": "code",
   "execution_count": 78,
   "id": "0b07c335",
   "metadata": {},
   "outputs": [],
   "source": [
    "import pandas as pd\n",
    "import seaborn as sns\n",
    "from sklearn.model_selection import train_test_split, GridSearchCV, cross_val_score\n",
    "from sklearn.preprocessing import StandardScaler\n",
    "from sklearn.metrics import confusion_matrix, accuracy_score, classification_report\n",
    "import numpy as np\n",
    "from sklearn.decomposition import PCA\n",
    "import seaborn as sns\n",
    "import numpy as np\n",
    "import pandas as pd\n",
    "from sklearn.tree import DecisionTreeClassifier\n",
    "from sklearn.ensemble import RandomForestClassifier, BaggingClassifier, AdaBoostClassifier, VotingClassifier\n",
    "from sklearn.linear_model import LogisticRegression\n",
    "from sklearn.svm import SVC\n",
    "import seaborn as sns\n",
    "import matplotlib.pyplot as plt\n",
    "import pandas as pd"
   ]
  },
  {
   "cell_type": "markdown",
   "id": "2e0f9576",
   "metadata": {},
   "source": [
    "# ADIM 1\n",
    "## Veri setinin yüklenmesi:"
   ]
  },
  {
   "cell_type": "code",
   "execution_count": 67,
   "id": "3a47270d",
   "metadata": {},
   "outputs": [],
   "source": [
    "data=pd.read_csv(\"/Users/ahmet/Library/Containers/com.microsoft.Excel/Data/Downloads/2021-2022 NBA Player Stats.csv.xls\" ,encoding=\"Windows-1252\", delimiter=\";\")"
   ]
  },
  {
   "cell_type": "markdown",
   "id": "96ef0217",
   "metadata": {},
   "source": [
    "## Veri Setinin Özellikleri"
   ]
  },
  {
   "cell_type": "code",
   "execution_count": 68,
   "id": "37a99309",
   "metadata": {},
   "outputs": [
    {
     "data": {
      "text/html": [
       "<div>\n",
       "<style scoped>\n",
       "    .dataframe tbody tr th:only-of-type {\n",
       "        vertical-align: middle;\n",
       "    }\n",
       "\n",
       "    .dataframe tbody tr th {\n",
       "        vertical-align: top;\n",
       "    }\n",
       "\n",
       "    .dataframe thead th {\n",
       "        text-align: right;\n",
       "    }\n",
       "</style>\n",
       "<table border=\"1\" class=\"dataframe\">\n",
       "  <thead>\n",
       "    <tr style=\"text-align: right;\">\n",
       "      <th></th>\n",
       "      <th>Rk</th>\n",
       "      <th>Player</th>\n",
       "      <th>Pos</th>\n",
       "      <th>Age</th>\n",
       "      <th>Tm</th>\n",
       "      <th>G</th>\n",
       "      <th>GS</th>\n",
       "      <th>MP</th>\n",
       "      <th>FG</th>\n",
       "      <th>FGA</th>\n",
       "      <th>...</th>\n",
       "      <th>FT%</th>\n",
       "      <th>ORB</th>\n",
       "      <th>DRB</th>\n",
       "      <th>TRB</th>\n",
       "      <th>AST</th>\n",
       "      <th>STL</th>\n",
       "      <th>BLK</th>\n",
       "      <th>TOV</th>\n",
       "      <th>PF</th>\n",
       "      <th>PTS</th>\n",
       "    </tr>\n",
       "  </thead>\n",
       "  <tbody>\n",
       "    <tr>\n",
       "      <th>0</th>\n",
       "      <td>1</td>\n",
       "      <td>Precious Achiuwa</td>\n",
       "      <td>C</td>\n",
       "      <td>22</td>\n",
       "      <td>TOR</td>\n",
       "      <td>34</td>\n",
       "      <td>20</td>\n",
       "      <td>25.3</td>\n",
       "      <td>3.4</td>\n",
       "      <td>8.1</td>\n",
       "      <td>...</td>\n",
       "      <td>0.574</td>\n",
       "      <td>2.4</td>\n",
       "      <td>5.3</td>\n",
       "      <td>7.7</td>\n",
       "      <td>1.3</td>\n",
       "      <td>0.6</td>\n",
       "      <td>0.6</td>\n",
       "      <td>1.1</td>\n",
       "      <td>2.2</td>\n",
       "      <td>7.9</td>\n",
       "    </tr>\n",
       "    <tr>\n",
       "      <th>1</th>\n",
       "      <td>2</td>\n",
       "      <td>Steven Adams</td>\n",
       "      <td>C</td>\n",
       "      <td>28</td>\n",
       "      <td>MEM</td>\n",
       "      <td>44</td>\n",
       "      <td>43</td>\n",
       "      <td>25.7</td>\n",
       "      <td>2.6</td>\n",
       "      <td>4.9</td>\n",
       "      <td>...</td>\n",
       "      <td>0.566</td>\n",
       "      <td>4.3</td>\n",
       "      <td>4.9</td>\n",
       "      <td>9.3</td>\n",
       "      <td>3.0</td>\n",
       "      <td>1.0</td>\n",
       "      <td>0.6</td>\n",
       "      <td>1.6</td>\n",
       "      <td>1.7</td>\n",
       "      <td>6.7</td>\n",
       "    </tr>\n",
       "    <tr>\n",
       "      <th>2</th>\n",
       "      <td>3</td>\n",
       "      <td>Bam Adebayo</td>\n",
       "      <td>C</td>\n",
       "      <td>24</td>\n",
       "      <td>MIA</td>\n",
       "      <td>21</td>\n",
       "      <td>21</td>\n",
       "      <td>32.9</td>\n",
       "      <td>6.9</td>\n",
       "      <td>13.3</td>\n",
       "      <td>...</td>\n",
       "      <td>0.767</td>\n",
       "      <td>2.6</td>\n",
       "      <td>7.3</td>\n",
       "      <td>10.0</td>\n",
       "      <td>3.2</td>\n",
       "      <td>1.2</td>\n",
       "      <td>0.5</td>\n",
       "      <td>2.9</td>\n",
       "      <td>3.1</td>\n",
       "      <td>18.7</td>\n",
       "    </tr>\n",
       "    <tr>\n",
       "      <th>3</th>\n",
       "      <td>4</td>\n",
       "      <td>Santi Aldama</td>\n",
       "      <td>PF</td>\n",
       "      <td>21</td>\n",
       "      <td>MEM</td>\n",
       "      <td>25</td>\n",
       "      <td>0</td>\n",
       "      <td>10.5</td>\n",
       "      <td>1.4</td>\n",
       "      <td>3.8</td>\n",
       "      <td>...</td>\n",
       "      <td>0.579</td>\n",
       "      <td>0.9</td>\n",
       "      <td>1.6</td>\n",
       "      <td>2.5</td>\n",
       "      <td>0.5</td>\n",
       "      <td>0.1</td>\n",
       "      <td>0.2</td>\n",
       "      <td>0.3</td>\n",
       "      <td>0.9</td>\n",
       "      <td>3.4</td>\n",
       "    </tr>\n",
       "    <tr>\n",
       "      <th>4</th>\n",
       "      <td>5</td>\n",
       "      <td>LaMarcus Aldridge</td>\n",
       "      <td>C</td>\n",
       "      <td>36</td>\n",
       "      <td>BRK</td>\n",
       "      <td>32</td>\n",
       "      <td>10</td>\n",
       "      <td>23.1</td>\n",
       "      <td>5.9</td>\n",
       "      <td>10.3</td>\n",
       "      <td>...</td>\n",
       "      <td>0.862</td>\n",
       "      <td>1.5</td>\n",
       "      <td>4.1</td>\n",
       "      <td>5.7</td>\n",
       "      <td>0.9</td>\n",
       "      <td>0.4</td>\n",
       "      <td>1.1</td>\n",
       "      <td>0.8</td>\n",
       "      <td>1.7</td>\n",
       "      <td>13.8</td>\n",
       "    </tr>\n",
       "  </tbody>\n",
       "</table>\n",
       "<p>5 rows × 30 columns</p>\n",
       "</div>"
      ],
      "text/plain": [
       "   Rk             Player Pos  Age   Tm   G  GS    MP   FG   FGA  ...    FT%  \\\n",
       "0   1   Precious Achiuwa   C   22  TOR  34  20  25.3  3.4   8.1  ...  0.574   \n",
       "1   2       Steven Adams   C   28  MEM  44  43  25.7  2.6   4.9  ...  0.566   \n",
       "2   3        Bam Adebayo   C   24  MIA  21  21  32.9  6.9  13.3  ...  0.767   \n",
       "3   4       Santi Aldama  PF   21  MEM  25   0  10.5  1.4   3.8  ...  0.579   \n",
       "4   5  LaMarcus Aldridge   C   36  BRK  32  10  23.1  5.9  10.3  ...  0.862   \n",
       "\n",
       "   ORB  DRB   TRB  AST  STL  BLK  TOV   PF   PTS  \n",
       "0  2.4  5.3   7.7  1.3  0.6  0.6  1.1  2.2   7.9  \n",
       "1  4.3  4.9   9.3  3.0  1.0  0.6  1.6  1.7   6.7  \n",
       "2  2.6  7.3  10.0  3.2  1.2  0.5  2.9  3.1  18.7  \n",
       "3  0.9  1.6   2.5  0.5  0.1  0.2  0.3  0.9   3.4  \n",
       "4  1.5  4.1   5.7  0.9  0.4  1.1  0.8  1.7  13.8  \n",
       "\n",
       "[5 rows x 30 columns]"
      ]
     },
     "execution_count": 68,
     "metadata": {},
     "output_type": "execute_result"
    }
   ],
   "source": [
    "data.head()"
   ]
  },
  {
   "cell_type": "code",
   "execution_count": 69,
   "id": "854125fe",
   "metadata": {},
   "outputs": [
    {
     "data": {
      "text/html": [
       "<div>\n",
       "<style scoped>\n",
       "    .dataframe tbody tr th:only-of-type {\n",
       "        vertical-align: middle;\n",
       "    }\n",
       "\n",
       "    .dataframe tbody tr th {\n",
       "        vertical-align: top;\n",
       "    }\n",
       "\n",
       "    .dataframe thead th {\n",
       "        text-align: right;\n",
       "    }\n",
       "</style>\n",
       "<table border=\"1\" class=\"dataframe\">\n",
       "  <thead>\n",
       "    <tr style=\"text-align: right;\">\n",
       "      <th></th>\n",
       "      <th>Rk</th>\n",
       "      <th>Age</th>\n",
       "      <th>G</th>\n",
       "      <th>GS</th>\n",
       "      <th>MP</th>\n",
       "      <th>FG</th>\n",
       "      <th>FGA</th>\n",
       "      <th>FG%</th>\n",
       "      <th>3P</th>\n",
       "      <th>3PA</th>\n",
       "      <th>...</th>\n",
       "      <th>FT%</th>\n",
       "      <th>ORB</th>\n",
       "      <th>DRB</th>\n",
       "      <th>TRB</th>\n",
       "      <th>AST</th>\n",
       "      <th>STL</th>\n",
       "      <th>BLK</th>\n",
       "      <th>TOV</th>\n",
       "      <th>PF</th>\n",
       "      <th>PTS</th>\n",
       "    </tr>\n",
       "  </thead>\n",
       "  <tbody>\n",
       "    <tr>\n",
       "      <th>count</th>\n",
       "      <td>590.000000</td>\n",
       "      <td>590.000000</td>\n",
       "      <td>590.000000</td>\n",
       "      <td>590.000000</td>\n",
       "      <td>590.000000</td>\n",
       "      <td>590.000000</td>\n",
       "      <td>590.000000</td>\n",
       "      <td>590.000000</td>\n",
       "      <td>590.000000</td>\n",
       "      <td>590.000000</td>\n",
       "      <td>...</td>\n",
       "      <td>590.000000</td>\n",
       "      <td>590.000000</td>\n",
       "      <td>590.000000</td>\n",
       "      <td>590.000000</td>\n",
       "      <td>590.000000</td>\n",
       "      <td>590.000000</td>\n",
       "      <td>590.000000</td>\n",
       "      <td>590.000000</td>\n",
       "      <td>590.000000</td>\n",
       "      <td>590.000000</td>\n",
       "    </tr>\n",
       "    <tr>\n",
       "      <th>mean</th>\n",
       "      <td>295.500000</td>\n",
       "      <td>25.761017</td>\n",
       "      <td>24.527119</td>\n",
       "      <td>11.620339</td>\n",
       "      <td>18.335593</td>\n",
       "      <td>2.906610</td>\n",
       "      <td>6.516441</td>\n",
       "      <td>0.423781</td>\n",
       "      <td>0.879153</td>\n",
       "      <td>2.604068</td>\n",
       "      <td>...</td>\n",
       "      <td>0.641332</td>\n",
       "      <td>0.813220</td>\n",
       "      <td>2.577458</td>\n",
       "      <td>3.390847</td>\n",
       "      <td>1.738814</td>\n",
       "      <td>0.588983</td>\n",
       "      <td>0.369322</td>\n",
       "      <td>0.983220</td>\n",
       "      <td>1.544068</td>\n",
       "      <td>7.865593</td>\n",
       "    </tr>\n",
       "    <tr>\n",
       "      <th>std</th>\n",
       "      <td>170.462606</td>\n",
       "      <td>4.162102</td>\n",
       "      <td>15.012562</td>\n",
       "      <td>15.217214</td>\n",
       "      <td>10.135615</td>\n",
       "      <td>2.303774</td>\n",
       "      <td>4.920442</td>\n",
       "      <td>0.163015</td>\n",
       "      <td>0.872085</td>\n",
       "      <td>2.308856</td>\n",
       "      <td>...</td>\n",
       "      <td>0.298489</td>\n",
       "      <td>0.755778</td>\n",
       "      <td>1.891797</td>\n",
       "      <td>2.453787</td>\n",
       "      <td>1.817469</td>\n",
       "      <td>0.442171</td>\n",
       "      <td>0.407891</td>\n",
       "      <td>0.853321</td>\n",
       "      <td>0.844149</td>\n",
       "      <td>6.332251</td>\n",
       "    </tr>\n",
       "    <tr>\n",
       "      <th>min</th>\n",
       "      <td>1.000000</td>\n",
       "      <td>19.000000</td>\n",
       "      <td>1.000000</td>\n",
       "      <td>0.000000</td>\n",
       "      <td>1.000000</td>\n",
       "      <td>0.000000</td>\n",
       "      <td>0.000000</td>\n",
       "      <td>0.000000</td>\n",
       "      <td>0.000000</td>\n",
       "      <td>0.000000</td>\n",
       "      <td>...</td>\n",
       "      <td>0.000000</td>\n",
       "      <td>0.000000</td>\n",
       "      <td>0.000000</td>\n",
       "      <td>0.000000</td>\n",
       "      <td>0.000000</td>\n",
       "      <td>0.000000</td>\n",
       "      <td>0.000000</td>\n",
       "      <td>0.000000</td>\n",
       "      <td>0.000000</td>\n",
       "      <td>0.000000</td>\n",
       "    </tr>\n",
       "    <tr>\n",
       "      <th>25%</th>\n",
       "      <td>148.250000</td>\n",
       "      <td>23.000000</td>\n",
       "      <td>9.000000</td>\n",
       "      <td>0.000000</td>\n",
       "      <td>9.700000</td>\n",
       "      <td>1.100000</td>\n",
       "      <td>2.900000</td>\n",
       "      <td>0.375250</td>\n",
       "      <td>0.100000</td>\n",
       "      <td>0.700000</td>\n",
       "      <td>...</td>\n",
       "      <td>0.580000</td>\n",
       "      <td>0.300000</td>\n",
       "      <td>1.225000</td>\n",
       "      <td>1.600000</td>\n",
       "      <td>0.500000</td>\n",
       "      <td>0.300000</td>\n",
       "      <td>0.100000</td>\n",
       "      <td>0.400000</td>\n",
       "      <td>1.000000</td>\n",
       "      <td>3.000000</td>\n",
       "    </tr>\n",
       "    <tr>\n",
       "      <th>50%</th>\n",
       "      <td>295.500000</td>\n",
       "      <td>25.000000</td>\n",
       "      <td>28.000000</td>\n",
       "      <td>3.000000</td>\n",
       "      <td>17.750000</td>\n",
       "      <td>2.400000</td>\n",
       "      <td>5.200000</td>\n",
       "      <td>0.436000</td>\n",
       "      <td>0.700000</td>\n",
       "      <td>2.100000</td>\n",
       "      <td>...</td>\n",
       "      <td>0.743000</td>\n",
       "      <td>0.600000</td>\n",
       "      <td>2.300000</td>\n",
       "      <td>3.000000</td>\n",
       "      <td>1.100000</td>\n",
       "      <td>0.500000</td>\n",
       "      <td>0.300000</td>\n",
       "      <td>0.800000</td>\n",
       "      <td>1.600000</td>\n",
       "      <td>6.500000</td>\n",
       "    </tr>\n",
       "    <tr>\n",
       "      <th>75%</th>\n",
       "      <td>442.750000</td>\n",
       "      <td>28.000000</td>\n",
       "      <td>38.000000</td>\n",
       "      <td>21.000000</td>\n",
       "      <td>27.175000</td>\n",
       "      <td>4.100000</td>\n",
       "      <td>9.275000</td>\n",
       "      <td>0.495750</td>\n",
       "      <td>1.400000</td>\n",
       "      <td>4.100000</td>\n",
       "      <td>...</td>\n",
       "      <td>0.833000</td>\n",
       "      <td>1.100000</td>\n",
       "      <td>3.400000</td>\n",
       "      <td>4.500000</td>\n",
       "      <td>2.300000</td>\n",
       "      <td>0.900000</td>\n",
       "      <td>0.500000</td>\n",
       "      <td>1.300000</td>\n",
       "      <td>2.200000</td>\n",
       "      <td>11.375000</td>\n",
       "    </tr>\n",
       "    <tr>\n",
       "      <th>max</th>\n",
       "      <td>590.000000</td>\n",
       "      <td>41.000000</td>\n",
       "      <td>47.000000</td>\n",
       "      <td>47.000000</td>\n",
       "      <td>38.100000</td>\n",
       "      <td>10.800000</td>\n",
       "      <td>21.400000</td>\n",
       "      <td>1.000000</td>\n",
       "      <td>4.900000</td>\n",
       "      <td>12.800000</td>\n",
       "      <td>...</td>\n",
       "      <td>1.000000</td>\n",
       "      <td>4.300000</td>\n",
       "      <td>11.400000</td>\n",
       "      <td>15.000000</td>\n",
       "      <td>10.000000</td>\n",
       "      <td>2.300000</td>\n",
       "      <td>3.000000</td>\n",
       "      <td>4.800000</td>\n",
       "      <td>4.000000</td>\n",
       "      <td>29.300000</td>\n",
       "    </tr>\n",
       "  </tbody>\n",
       "</table>\n",
       "<p>8 rows × 27 columns</p>\n",
       "</div>"
      ],
      "text/plain": [
       "               Rk         Age           G          GS          MP          FG  \\\n",
       "count  590.000000  590.000000  590.000000  590.000000  590.000000  590.000000   \n",
       "mean   295.500000   25.761017   24.527119   11.620339   18.335593    2.906610   \n",
       "std    170.462606    4.162102   15.012562   15.217214   10.135615    2.303774   \n",
       "min      1.000000   19.000000    1.000000    0.000000    1.000000    0.000000   \n",
       "25%    148.250000   23.000000    9.000000    0.000000    9.700000    1.100000   \n",
       "50%    295.500000   25.000000   28.000000    3.000000   17.750000    2.400000   \n",
       "75%    442.750000   28.000000   38.000000   21.000000   27.175000    4.100000   \n",
       "max    590.000000   41.000000   47.000000   47.000000   38.100000   10.800000   \n",
       "\n",
       "              FGA         FG%          3P         3PA  ...         FT%  \\\n",
       "count  590.000000  590.000000  590.000000  590.000000  ...  590.000000   \n",
       "mean     6.516441    0.423781    0.879153    2.604068  ...    0.641332   \n",
       "std      4.920442    0.163015    0.872085    2.308856  ...    0.298489   \n",
       "min      0.000000    0.000000    0.000000    0.000000  ...    0.000000   \n",
       "25%      2.900000    0.375250    0.100000    0.700000  ...    0.580000   \n",
       "50%      5.200000    0.436000    0.700000    2.100000  ...    0.743000   \n",
       "75%      9.275000    0.495750    1.400000    4.100000  ...    0.833000   \n",
       "max     21.400000    1.000000    4.900000   12.800000  ...    1.000000   \n",
       "\n",
       "              ORB         DRB         TRB         AST         STL         BLK  \\\n",
       "count  590.000000  590.000000  590.000000  590.000000  590.000000  590.000000   \n",
       "mean     0.813220    2.577458    3.390847    1.738814    0.588983    0.369322   \n",
       "std      0.755778    1.891797    2.453787    1.817469    0.442171    0.407891   \n",
       "min      0.000000    0.000000    0.000000    0.000000    0.000000    0.000000   \n",
       "25%      0.300000    1.225000    1.600000    0.500000    0.300000    0.100000   \n",
       "50%      0.600000    2.300000    3.000000    1.100000    0.500000    0.300000   \n",
       "75%      1.100000    3.400000    4.500000    2.300000    0.900000    0.500000   \n",
       "max      4.300000   11.400000   15.000000   10.000000    2.300000    3.000000   \n",
       "\n",
       "              TOV          PF         PTS  \n",
       "count  590.000000  590.000000  590.000000  \n",
       "mean     0.983220    1.544068    7.865593  \n",
       "std      0.853321    0.844149    6.332251  \n",
       "min      0.000000    0.000000    0.000000  \n",
       "25%      0.400000    1.000000    3.000000  \n",
       "50%      0.800000    1.600000    6.500000  \n",
       "75%      1.300000    2.200000   11.375000  \n",
       "max      4.800000    4.000000   29.300000  \n",
       "\n",
       "[8 rows x 27 columns]"
      ]
     },
     "execution_count": 69,
     "metadata": {},
     "output_type": "execute_result"
    }
   ],
   "source": [
    "data.describe()"
   ]
  },
  {
   "cell_type": "code",
   "execution_count": 70,
   "id": "449790da",
   "metadata": {},
   "outputs": [
    {
     "data": {
      "text/plain": [
       "(590, 30)"
      ]
     },
     "execution_count": 70,
     "metadata": {},
     "output_type": "execute_result"
    }
   ],
   "source": [
    "data.shape"
   ]
  },
  {
   "cell_type": "code",
   "execution_count": 71,
   "id": "6ac502d4",
   "metadata": {},
   "outputs": [
    {
     "name": "stdout",
     "output_type": "stream",
     "text": [
      "<class 'pandas.core.frame.DataFrame'>\n",
      "RangeIndex: 590 entries, 0 to 589\n",
      "Data columns (total 30 columns):\n",
      " #   Column  Non-Null Count  Dtype  \n",
      "---  ------  --------------  -----  \n",
      " 0   Rk      590 non-null    int64  \n",
      " 1   Player  590 non-null    object \n",
      " 2   Pos     590 non-null    object \n",
      " 3   Age     590 non-null    int64  \n",
      " 4   Tm      590 non-null    object \n",
      " 5   G       590 non-null    int64  \n",
      " 6   GS      590 non-null    int64  \n",
      " 7   MP      590 non-null    float64\n",
      " 8   FG      590 non-null    float64\n",
      " 9   FGA     590 non-null    float64\n",
      " 10  FG%     590 non-null    float64\n",
      " 11  3P      590 non-null    float64\n",
      " 12  3PA     590 non-null    float64\n",
      " 13  3P%     590 non-null    float64\n",
      " 14  2P      590 non-null    float64\n",
      " 15  2PA     590 non-null    float64\n",
      " 16  2P%     590 non-null    float64\n",
      " 17  eFG%    590 non-null    float64\n",
      " 18  FT      590 non-null    float64\n",
      " 19  FTA     590 non-null    float64\n",
      " 20  FT%     590 non-null    float64\n",
      " 21  ORB     590 non-null    float64\n",
      " 22  DRB     590 non-null    float64\n",
      " 23  TRB     590 non-null    float64\n",
      " 24  AST     590 non-null    float64\n",
      " 25  STL     590 non-null    float64\n",
      " 26  BLK     590 non-null    float64\n",
      " 27  TOV     590 non-null    float64\n",
      " 28  PF      590 non-null    float64\n",
      " 29  PTS     590 non-null    float64\n",
      "dtypes: float64(23), int64(4), object(3)\n",
      "memory usage: 138.4+ KB\n"
     ]
    }
   ],
   "source": [
    "data.info()"
   ]
  },
  {
   "cell_type": "markdown",
   "id": "f60a0995",
   "metadata": {},
   "source": [
    "## Veri Setinden Sayısal Olmayan Bazı Özniteliklerin Çıkarılması"
   ]
  },
  {
   "cell_type": "code",
   "execution_count": 72,
   "id": "d885425d",
   "metadata": {},
   "outputs": [],
   "source": [
    "data.drop([\"Rk\",\"Player\",\"Tm\"], axis=1, inplace=True)"
   ]
  },
  {
   "cell_type": "code",
   "execution_count": 73,
   "id": "172d012a",
   "metadata": {},
   "outputs": [
    {
     "data": {
      "text/html": [
       "<div>\n",
       "<style scoped>\n",
       "    .dataframe tbody tr th:only-of-type {\n",
       "        vertical-align: middle;\n",
       "    }\n",
       "\n",
       "    .dataframe tbody tr th {\n",
       "        vertical-align: top;\n",
       "    }\n",
       "\n",
       "    .dataframe thead th {\n",
       "        text-align: right;\n",
       "    }\n",
       "</style>\n",
       "<table border=\"1\" class=\"dataframe\">\n",
       "  <thead>\n",
       "    <tr style=\"text-align: right;\">\n",
       "      <th></th>\n",
       "      <th>Pos</th>\n",
       "      <th>Age</th>\n",
       "      <th>G</th>\n",
       "      <th>GS</th>\n",
       "      <th>MP</th>\n",
       "      <th>FG</th>\n",
       "      <th>FGA</th>\n",
       "      <th>FG%</th>\n",
       "      <th>3P</th>\n",
       "      <th>3PA</th>\n",
       "      <th>...</th>\n",
       "      <th>FT%</th>\n",
       "      <th>ORB</th>\n",
       "      <th>DRB</th>\n",
       "      <th>TRB</th>\n",
       "      <th>AST</th>\n",
       "      <th>STL</th>\n",
       "      <th>BLK</th>\n",
       "      <th>TOV</th>\n",
       "      <th>PF</th>\n",
       "      <th>PTS</th>\n",
       "    </tr>\n",
       "  </thead>\n",
       "  <tbody>\n",
       "    <tr>\n",
       "      <th>0</th>\n",
       "      <td>C</td>\n",
       "      <td>22</td>\n",
       "      <td>34</td>\n",
       "      <td>20</td>\n",
       "      <td>25.3</td>\n",
       "      <td>3.4</td>\n",
       "      <td>8.1</td>\n",
       "      <td>0.412</td>\n",
       "      <td>0.3</td>\n",
       "      <td>1.3</td>\n",
       "      <td>...</td>\n",
       "      <td>0.574</td>\n",
       "      <td>2.4</td>\n",
       "      <td>5.3</td>\n",
       "      <td>7.7</td>\n",
       "      <td>1.3</td>\n",
       "      <td>0.6</td>\n",
       "      <td>0.6</td>\n",
       "      <td>1.1</td>\n",
       "      <td>2.2</td>\n",
       "      <td>7.9</td>\n",
       "    </tr>\n",
       "    <tr>\n",
       "      <th>1</th>\n",
       "      <td>C</td>\n",
       "      <td>28</td>\n",
       "      <td>44</td>\n",
       "      <td>43</td>\n",
       "      <td>25.7</td>\n",
       "      <td>2.6</td>\n",
       "      <td>4.9</td>\n",
       "      <td>0.521</td>\n",
       "      <td>0.0</td>\n",
       "      <td>0.0</td>\n",
       "      <td>...</td>\n",
       "      <td>0.566</td>\n",
       "      <td>4.3</td>\n",
       "      <td>4.9</td>\n",
       "      <td>9.3</td>\n",
       "      <td>3.0</td>\n",
       "      <td>1.0</td>\n",
       "      <td>0.6</td>\n",
       "      <td>1.6</td>\n",
       "      <td>1.7</td>\n",
       "      <td>6.7</td>\n",
       "    </tr>\n",
       "    <tr>\n",
       "      <th>2</th>\n",
       "      <td>C</td>\n",
       "      <td>24</td>\n",
       "      <td>21</td>\n",
       "      <td>21</td>\n",
       "      <td>32.9</td>\n",
       "      <td>6.9</td>\n",
       "      <td>13.3</td>\n",
       "      <td>0.518</td>\n",
       "      <td>0.0</td>\n",
       "      <td>0.0</td>\n",
       "      <td>...</td>\n",
       "      <td>0.767</td>\n",
       "      <td>2.6</td>\n",
       "      <td>7.3</td>\n",
       "      <td>10.0</td>\n",
       "      <td>3.2</td>\n",
       "      <td>1.2</td>\n",
       "      <td>0.5</td>\n",
       "      <td>2.9</td>\n",
       "      <td>3.1</td>\n",
       "      <td>18.7</td>\n",
       "    </tr>\n",
       "    <tr>\n",
       "      <th>3</th>\n",
       "      <td>PF</td>\n",
       "      <td>21</td>\n",
       "      <td>25</td>\n",
       "      <td>0</td>\n",
       "      <td>10.5</td>\n",
       "      <td>1.4</td>\n",
       "      <td>3.8</td>\n",
       "      <td>0.372</td>\n",
       "      <td>0.2</td>\n",
       "      <td>1.5</td>\n",
       "      <td>...</td>\n",
       "      <td>0.579</td>\n",
       "      <td>0.9</td>\n",
       "      <td>1.6</td>\n",
       "      <td>2.5</td>\n",
       "      <td>0.5</td>\n",
       "      <td>0.1</td>\n",
       "      <td>0.2</td>\n",
       "      <td>0.3</td>\n",
       "      <td>0.9</td>\n",
       "      <td>3.4</td>\n",
       "    </tr>\n",
       "    <tr>\n",
       "      <th>4</th>\n",
       "      <td>C</td>\n",
       "      <td>36</td>\n",
       "      <td>32</td>\n",
       "      <td>10</td>\n",
       "      <td>23.1</td>\n",
       "      <td>5.9</td>\n",
       "      <td>10.3</td>\n",
       "      <td>0.574</td>\n",
       "      <td>0.4</td>\n",
       "      <td>1.1</td>\n",
       "      <td>...</td>\n",
       "      <td>0.862</td>\n",
       "      <td>1.5</td>\n",
       "      <td>4.1</td>\n",
       "      <td>5.7</td>\n",
       "      <td>0.9</td>\n",
       "      <td>0.4</td>\n",
       "      <td>1.1</td>\n",
       "      <td>0.8</td>\n",
       "      <td>1.7</td>\n",
       "      <td>13.8</td>\n",
       "    </tr>\n",
       "  </tbody>\n",
       "</table>\n",
       "<p>5 rows × 27 columns</p>\n",
       "</div>"
      ],
      "text/plain": [
       "  Pos  Age   G  GS    MP   FG   FGA    FG%   3P  3PA  ...    FT%  ORB  DRB  \\\n",
       "0   C   22  34  20  25.3  3.4   8.1  0.412  0.3  1.3  ...  0.574  2.4  5.3   \n",
       "1   C   28  44  43  25.7  2.6   4.9  0.521  0.0  0.0  ...  0.566  4.3  4.9   \n",
       "2   C   24  21  21  32.9  6.9  13.3  0.518  0.0  0.0  ...  0.767  2.6  7.3   \n",
       "3  PF   21  25   0  10.5  1.4   3.8  0.372  0.2  1.5  ...  0.579  0.9  1.6   \n",
       "4   C   36  32  10  23.1  5.9  10.3  0.574  0.4  1.1  ...  0.862  1.5  4.1   \n",
       "\n",
       "    TRB  AST  STL  BLK  TOV   PF   PTS  \n",
       "0   7.7  1.3  0.6  0.6  1.1  2.2   7.9  \n",
       "1   9.3  3.0  1.0  0.6  1.6  1.7   6.7  \n",
       "2  10.0  3.2  1.2  0.5  2.9  3.1  18.7  \n",
       "3   2.5  0.5  0.1  0.2  0.3  0.9   3.4  \n",
       "4   5.7  0.9  0.4  1.1  0.8  1.7  13.8  \n",
       "\n",
       "[5 rows x 27 columns]"
      ]
     },
     "execution_count": 73,
     "metadata": {},
     "output_type": "execute_result"
    }
   ],
   "source": [
    "data.head()"
   ]
  },
  {
   "cell_type": "code",
   "execution_count": 74,
   "id": "5b7b1061",
   "metadata": {},
   "outputs": [
    {
     "name": "stdout",
     "output_type": "stream",
     "text": [
      "<class 'pandas.core.frame.DataFrame'>\n",
      "RangeIndex: 590 entries, 0 to 589\n",
      "Data columns (total 27 columns):\n",
      " #   Column  Non-Null Count  Dtype  \n",
      "---  ------  --------------  -----  \n",
      " 0   Pos     590 non-null    object \n",
      " 1   Age     590 non-null    int64  \n",
      " 2   G       590 non-null    int64  \n",
      " 3   GS      590 non-null    int64  \n",
      " 4   MP      590 non-null    float64\n",
      " 5   FG      590 non-null    float64\n",
      " 6   FGA     590 non-null    float64\n",
      " 7   FG%     590 non-null    float64\n",
      " 8   3P      590 non-null    float64\n",
      " 9   3PA     590 non-null    float64\n",
      " 10  3P%     590 non-null    float64\n",
      " 11  2P      590 non-null    float64\n",
      " 12  2PA     590 non-null    float64\n",
      " 13  2P%     590 non-null    float64\n",
      " 14  eFG%    590 non-null    float64\n",
      " 15  FT      590 non-null    float64\n",
      " 16  FTA     590 non-null    float64\n",
      " 17  FT%     590 non-null    float64\n",
      " 18  ORB     590 non-null    float64\n",
      " 19  DRB     590 non-null    float64\n",
      " 20  TRB     590 non-null    float64\n",
      " 21  AST     590 non-null    float64\n",
      " 22  STL     590 non-null    float64\n",
      " 23  BLK     590 non-null    float64\n",
      " 24  TOV     590 non-null    float64\n",
      " 25  PF      590 non-null    float64\n",
      " 26  PTS     590 non-null    float64\n",
      "dtypes: float64(23), int64(3), object(1)\n",
      "memory usage: 124.6+ KB\n"
     ]
    }
   ],
   "source": [
    "data.info()"
   ]
  },
  {
   "cell_type": "code",
   "execution_count": 75,
   "id": "7c4a1381",
   "metadata": {},
   "outputs": [
    {
     "data": {
      "text/html": [
       "<div>\n",
       "<style scoped>\n",
       "    .dataframe tbody tr th:only-of-type {\n",
       "        vertical-align: middle;\n",
       "    }\n",
       "\n",
       "    .dataframe tbody tr th {\n",
       "        vertical-align: top;\n",
       "    }\n",
       "\n",
       "    .dataframe thead th {\n",
       "        text-align: right;\n",
       "    }\n",
       "</style>\n",
       "<table border=\"1\" class=\"dataframe\">\n",
       "  <thead>\n",
       "    <tr style=\"text-align: right;\">\n",
       "      <th></th>\n",
       "      <th>Age</th>\n",
       "      <th>G</th>\n",
       "      <th>GS</th>\n",
       "      <th>MP</th>\n",
       "      <th>FG</th>\n",
       "      <th>FGA</th>\n",
       "      <th>FG%</th>\n",
       "      <th>3P</th>\n",
       "      <th>3PA</th>\n",
       "      <th>3P%</th>\n",
       "      <th>...</th>\n",
       "      <th>FT%</th>\n",
       "      <th>ORB</th>\n",
       "      <th>DRB</th>\n",
       "      <th>TRB</th>\n",
       "      <th>AST</th>\n",
       "      <th>STL</th>\n",
       "      <th>BLK</th>\n",
       "      <th>TOV</th>\n",
       "      <th>PF</th>\n",
       "      <th>PTS</th>\n",
       "    </tr>\n",
       "  </thead>\n",
       "  <tbody>\n",
       "    <tr>\n",
       "      <th>count</th>\n",
       "      <td>590.000000</td>\n",
       "      <td>590.000000</td>\n",
       "      <td>590.000000</td>\n",
       "      <td>590.000000</td>\n",
       "      <td>590.000000</td>\n",
       "      <td>590.000000</td>\n",
       "      <td>590.000000</td>\n",
       "      <td>590.000000</td>\n",
       "      <td>590.000000</td>\n",
       "      <td>590.000000</td>\n",
       "      <td>...</td>\n",
       "      <td>590.000000</td>\n",
       "      <td>590.000000</td>\n",
       "      <td>590.000000</td>\n",
       "      <td>590.000000</td>\n",
       "      <td>590.000000</td>\n",
       "      <td>590.000000</td>\n",
       "      <td>590.000000</td>\n",
       "      <td>590.000000</td>\n",
       "      <td>590.000000</td>\n",
       "      <td>590.000000</td>\n",
       "    </tr>\n",
       "    <tr>\n",
       "      <th>mean</th>\n",
       "      <td>25.761017</td>\n",
       "      <td>24.527119</td>\n",
       "      <td>11.620339</td>\n",
       "      <td>18.335593</td>\n",
       "      <td>2.906610</td>\n",
       "      <td>6.516441</td>\n",
       "      <td>0.423781</td>\n",
       "      <td>0.879153</td>\n",
       "      <td>2.604068</td>\n",
       "      <td>0.269481</td>\n",
       "      <td>...</td>\n",
       "      <td>0.641332</td>\n",
       "      <td>0.813220</td>\n",
       "      <td>2.577458</td>\n",
       "      <td>3.390847</td>\n",
       "      <td>1.738814</td>\n",
       "      <td>0.588983</td>\n",
       "      <td>0.369322</td>\n",
       "      <td>0.983220</td>\n",
       "      <td>1.544068</td>\n",
       "      <td>7.865593</td>\n",
       "    </tr>\n",
       "    <tr>\n",
       "      <th>std</th>\n",
       "      <td>4.162102</td>\n",
       "      <td>15.012562</td>\n",
       "      <td>15.217214</td>\n",
       "      <td>10.135615</td>\n",
       "      <td>2.303774</td>\n",
       "      <td>4.920442</td>\n",
       "      <td>0.163015</td>\n",
       "      <td>0.872085</td>\n",
       "      <td>2.308856</td>\n",
       "      <td>0.166584</td>\n",
       "      <td>...</td>\n",
       "      <td>0.298489</td>\n",
       "      <td>0.755778</td>\n",
       "      <td>1.891797</td>\n",
       "      <td>2.453787</td>\n",
       "      <td>1.817469</td>\n",
       "      <td>0.442171</td>\n",
       "      <td>0.407891</td>\n",
       "      <td>0.853321</td>\n",
       "      <td>0.844149</td>\n",
       "      <td>6.332251</td>\n",
       "    </tr>\n",
       "    <tr>\n",
       "      <th>min</th>\n",
       "      <td>19.000000</td>\n",
       "      <td>1.000000</td>\n",
       "      <td>0.000000</td>\n",
       "      <td>1.000000</td>\n",
       "      <td>0.000000</td>\n",
       "      <td>0.000000</td>\n",
       "      <td>0.000000</td>\n",
       "      <td>0.000000</td>\n",
       "      <td>0.000000</td>\n",
       "      <td>0.000000</td>\n",
       "      <td>...</td>\n",
       "      <td>0.000000</td>\n",
       "      <td>0.000000</td>\n",
       "      <td>0.000000</td>\n",
       "      <td>0.000000</td>\n",
       "      <td>0.000000</td>\n",
       "      <td>0.000000</td>\n",
       "      <td>0.000000</td>\n",
       "      <td>0.000000</td>\n",
       "      <td>0.000000</td>\n",
       "      <td>0.000000</td>\n",
       "    </tr>\n",
       "    <tr>\n",
       "      <th>25%</th>\n",
       "      <td>23.000000</td>\n",
       "      <td>9.000000</td>\n",
       "      <td>0.000000</td>\n",
       "      <td>9.700000</td>\n",
       "      <td>1.100000</td>\n",
       "      <td>2.900000</td>\n",
       "      <td>0.375250</td>\n",
       "      <td>0.100000</td>\n",
       "      <td>0.700000</td>\n",
       "      <td>0.176000</td>\n",
       "      <td>...</td>\n",
       "      <td>0.580000</td>\n",
       "      <td>0.300000</td>\n",
       "      <td>1.225000</td>\n",
       "      <td>1.600000</td>\n",
       "      <td>0.500000</td>\n",
       "      <td>0.300000</td>\n",
       "      <td>0.100000</td>\n",
       "      <td>0.400000</td>\n",
       "      <td>1.000000</td>\n",
       "      <td>3.000000</td>\n",
       "    </tr>\n",
       "    <tr>\n",
       "      <th>50%</th>\n",
       "      <td>25.000000</td>\n",
       "      <td>28.000000</td>\n",
       "      <td>3.000000</td>\n",
       "      <td>17.750000</td>\n",
       "      <td>2.400000</td>\n",
       "      <td>5.200000</td>\n",
       "      <td>0.436000</td>\n",
       "      <td>0.700000</td>\n",
       "      <td>2.100000</td>\n",
       "      <td>0.316000</td>\n",
       "      <td>...</td>\n",
       "      <td>0.743000</td>\n",
       "      <td>0.600000</td>\n",
       "      <td>2.300000</td>\n",
       "      <td>3.000000</td>\n",
       "      <td>1.100000</td>\n",
       "      <td>0.500000</td>\n",
       "      <td>0.300000</td>\n",
       "      <td>0.800000</td>\n",
       "      <td>1.600000</td>\n",
       "      <td>6.500000</td>\n",
       "    </tr>\n",
       "    <tr>\n",
       "      <th>75%</th>\n",
       "      <td>28.000000</td>\n",
       "      <td>38.000000</td>\n",
       "      <td>21.000000</td>\n",
       "      <td>27.175000</td>\n",
       "      <td>4.100000</td>\n",
       "      <td>9.275000</td>\n",
       "      <td>0.495750</td>\n",
       "      <td>1.400000</td>\n",
       "      <td>4.100000</td>\n",
       "      <td>0.371000</td>\n",
       "      <td>...</td>\n",
       "      <td>0.833000</td>\n",
       "      <td>1.100000</td>\n",
       "      <td>3.400000</td>\n",
       "      <td>4.500000</td>\n",
       "      <td>2.300000</td>\n",
       "      <td>0.900000</td>\n",
       "      <td>0.500000</td>\n",
       "      <td>1.300000</td>\n",
       "      <td>2.200000</td>\n",
       "      <td>11.375000</td>\n",
       "    </tr>\n",
       "    <tr>\n",
       "      <th>max</th>\n",
       "      <td>41.000000</td>\n",
       "      <td>47.000000</td>\n",
       "      <td>47.000000</td>\n",
       "      <td>38.100000</td>\n",
       "      <td>10.800000</td>\n",
       "      <td>21.400000</td>\n",
       "      <td>1.000000</td>\n",
       "      <td>4.900000</td>\n",
       "      <td>12.800000</td>\n",
       "      <td>1.000000</td>\n",
       "      <td>...</td>\n",
       "      <td>1.000000</td>\n",
       "      <td>4.300000</td>\n",
       "      <td>11.400000</td>\n",
       "      <td>15.000000</td>\n",
       "      <td>10.000000</td>\n",
       "      <td>2.300000</td>\n",
       "      <td>3.000000</td>\n",
       "      <td>4.800000</td>\n",
       "      <td>4.000000</td>\n",
       "      <td>29.300000</td>\n",
       "    </tr>\n",
       "  </tbody>\n",
       "</table>\n",
       "<p>8 rows × 26 columns</p>\n",
       "</div>"
      ],
      "text/plain": [
       "              Age           G          GS          MP          FG         FGA  \\\n",
       "count  590.000000  590.000000  590.000000  590.000000  590.000000  590.000000   \n",
       "mean    25.761017   24.527119   11.620339   18.335593    2.906610    6.516441   \n",
       "std      4.162102   15.012562   15.217214   10.135615    2.303774    4.920442   \n",
       "min     19.000000    1.000000    0.000000    1.000000    0.000000    0.000000   \n",
       "25%     23.000000    9.000000    0.000000    9.700000    1.100000    2.900000   \n",
       "50%     25.000000   28.000000    3.000000   17.750000    2.400000    5.200000   \n",
       "75%     28.000000   38.000000   21.000000   27.175000    4.100000    9.275000   \n",
       "max     41.000000   47.000000   47.000000   38.100000   10.800000   21.400000   \n",
       "\n",
       "              FG%          3P         3PA         3P%  ...         FT%  \\\n",
       "count  590.000000  590.000000  590.000000  590.000000  ...  590.000000   \n",
       "mean     0.423781    0.879153    2.604068    0.269481  ...    0.641332   \n",
       "std      0.163015    0.872085    2.308856    0.166584  ...    0.298489   \n",
       "min      0.000000    0.000000    0.000000    0.000000  ...    0.000000   \n",
       "25%      0.375250    0.100000    0.700000    0.176000  ...    0.580000   \n",
       "50%      0.436000    0.700000    2.100000    0.316000  ...    0.743000   \n",
       "75%      0.495750    1.400000    4.100000    0.371000  ...    0.833000   \n",
       "max      1.000000    4.900000   12.800000    1.000000  ...    1.000000   \n",
       "\n",
       "              ORB         DRB         TRB         AST         STL         BLK  \\\n",
       "count  590.000000  590.000000  590.000000  590.000000  590.000000  590.000000   \n",
       "mean     0.813220    2.577458    3.390847    1.738814    0.588983    0.369322   \n",
       "std      0.755778    1.891797    2.453787    1.817469    0.442171    0.407891   \n",
       "min      0.000000    0.000000    0.000000    0.000000    0.000000    0.000000   \n",
       "25%      0.300000    1.225000    1.600000    0.500000    0.300000    0.100000   \n",
       "50%      0.600000    2.300000    3.000000    1.100000    0.500000    0.300000   \n",
       "75%      1.100000    3.400000    4.500000    2.300000    0.900000    0.500000   \n",
       "max      4.300000   11.400000   15.000000   10.000000    2.300000    3.000000   \n",
       "\n",
       "              TOV          PF         PTS  \n",
       "count  590.000000  590.000000  590.000000  \n",
       "mean     0.983220    1.544068    7.865593  \n",
       "std      0.853321    0.844149    6.332251  \n",
       "min      0.000000    0.000000    0.000000  \n",
       "25%      0.400000    1.000000    3.000000  \n",
       "50%      0.800000    1.600000    6.500000  \n",
       "75%      1.300000    2.200000   11.375000  \n",
       "max      4.800000    4.000000   29.300000  \n",
       "\n",
       "[8 rows x 26 columns]"
      ]
     },
     "execution_count": 75,
     "metadata": {},
     "output_type": "execute_result"
    }
   ],
   "source": [
    "data.describe()"
   ]
  },
  {
   "cell_type": "code",
   "execution_count": 76,
   "id": "f76cc88f",
   "metadata": {},
   "outputs": [
    {
     "data": {
      "text/plain": [
       "Pos     0\n",
       "Age     0\n",
       "G       0\n",
       "GS      0\n",
       "MP      0\n",
       "FG      0\n",
       "FGA     0\n",
       "FG%     0\n",
       "3P      0\n",
       "3PA     0\n",
       "3P%     0\n",
       "2P      0\n",
       "2PA     0\n",
       "2P%     0\n",
       "eFG%    0\n",
       "FT      0\n",
       "FTA     0\n",
       "FT%     0\n",
       "ORB     0\n",
       "DRB     0\n",
       "TRB     0\n",
       "AST     0\n",
       "STL     0\n",
       "BLK     0\n",
       "TOV     0\n",
       "PF      0\n",
       "PTS     0\n",
       "dtype: int64"
      ]
     },
     "execution_count": 76,
     "metadata": {},
     "output_type": "execute_result"
    }
   ],
   "source": [
    "data.isnull().sum()"
   ]
  },
  {
   "cell_type": "code",
   "execution_count": 79,
   "id": "b526bf15",
   "metadata": {},
   "outputs": [
    {
     "name": "stderr",
     "output_type": "stream",
     "text": [
      "/Users/ahmet/opt/anaconda3/lib/python3.9/site-packages/seaborn/_decorators.py:36: FutureWarning: Pass the following variable as a keyword arg: x. From version 0.12, the only valid positional argument will be `data`, and passing other arguments without an explicit keyword will result in an error or misinterpretation.\n",
      "  warnings.warn(\n"
     ]
    },
    {
     "data": {
      "image/png": "[encoded data removed]",
      "text/plain": [
       "<Figure size 432x288 with 1 Axes>"
      ]
     },
     "metadata": {
      "needs_background": "light"
     },
     "output_type": "display_data"
    }
   ],
   "source": [
    "sns.countplot(data['Pos'],label=\"Count\")\n",
    "plt.show()"
   ]
  },
  {
   "cell_type": "markdown",
   "id": "8e907f44",
   "metadata": {},
   "source": [
    "# Adım 2\n",
    "\n",
    "## Eksik değer analizi:"
   ]
  },
  {
   "cell_type": "code",
   "execution_count": 95,
   "id": "cbc89fd2",
   "metadata": {},
   "outputs": [
    {
     "data": {
      "text/plain": [
       "Pos     0\n",
       "Age     0\n",
       "G       0\n",
       "GS      0\n",
       "MP      0\n",
       "FG      0\n",
       "FGA     0\n",
       "FG%     0\n",
       "3P      0\n",
       "3PA     0\n",
       "3P%     0\n",
       "2P      0\n",
       "2PA     0\n",
       "2P%     0\n",
       "eFG%    0\n",
       "FT      0\n",
       "FTA     0\n",
       "FT%     0\n",
       "ORB     0\n",
       "DRB     0\n",
       "TRB     0\n",
       "AST     0\n",
       "STL     0\n",
       "BLK     0\n",
       "TOV     0\n",
       "PF      0\n",
       "PTS     0\n",
       "dtype: int64"
      ]
     },
     "execution_count": 95,
     "metadata": {},
     "output_type": "execute_result"
    }
   ],
   "source": [
    "data.isnull().sum()"
   ]
  },
  {
   "cell_type": "markdown",
   "id": "20c4b1ca",
   "metadata": {},
   "source": [
    "# Adım 3\n",
    "\n",
    "## Aykırı Değer Analizi:"
   ]
  },
  {
   "cell_type": "markdown",
   "id": "0725420d",
   "metadata": {},
   "source": [
    "### Bu kısımda tüm değiklenlerimizdeki aykırı değerleri görselleştirme yaparak(box plot yöntemi ile) ve sayısal olarak hangi değer aralığı dışında kalanların aykırı değer olacağını tespit ettik."
   ]
  },
  {
   "cell_type": "code",
   "execution_count": 96,
   "id": "5d7a9c37",
   "metadata": {},
   "outputs": [
    {
     "data": {
      "text/plain": [
       "<AxesSubplot:xlabel='Age'>"
      ]
     },
     "execution_count": 96,
     "metadata": {},
     "output_type": "execute_result"
    },
    {
     "data": {
      "image/png": "[encoded data removed]",
      "text/plain": [
       "<Figure size 432x288 with 1 Axes>"
      ]
     },
     "metadata": {
      "needs_background": "light"
     },
     "output_type": "display_data"
    }
   ],
   "source": [
    "data_Age=data['Age']\n",
    "sns.boxplot(x=data_Age)"
   ]
  },
  {
   "cell_type": "code",
   "execution_count": 97,
   "id": "8e4753ae",
   "metadata": {},
   "outputs": [
    {
     "name": "stdout",
     "output_type": "stream",
     "text": [
      "lower bound is15.5\n",
      "upper bound is35.5\n",
      "23.0\n",
      "28.0\n"
     ]
    }
   ],
   "source": [
    "Q1=data_Age.quantile(0.25)\n",
    "Q3=data_Age.quantile(0.75)\n",
    "IQR=Q3-Q1\n",
    "\n",
    "lower_bound=Q1- 1.5*IQR\n",
    "upper_bound=Q3+1.5*IQR\n",
    "print(\"lower bound is\" + str(lower_bound))\n",
    "print(\"upper bound is\" + str(upper_bound))\n",
    "print(Q1)\n",
    "print(Q3)"
   ]
  },
  {
   "cell_type": "code",
   "execution_count": 98,
   "id": "bf900c04",
   "metadata": {},
   "outputs": [
    {
     "data": {
      "text/plain": [
       "<AxesSubplot:xlabel='G'>"
      ]
     },
     "execution_count": 98,
     "metadata": {},
     "output_type": "execute_result"
    },
    {
     "data": {
      "image/png": "[encoded data removed]",
      "text/plain": [
       "<Figure size 432x288 with 1 Axes>"
      ]
     },
     "metadata": {
      "needs_background": "light"
     },
     "output_type": "display_data"
    }
   ],
   "source": [
    "data_G=data['G']\n",
    "sns.boxplot(x=data_G)"
   ]
  },
  {
   "cell_type": "code",
   "execution_count": 99,
   "id": "ed95bdb1",
   "metadata": {},
   "outputs": [
    {
     "name": "stdout",
     "output_type": "stream",
     "text": [
      "lower bound is-34.5\n",
      "upper bound is81.5\n",
      "9.0\n",
      "38.0\n"
     ]
    }
   ],
   "source": [
    "Q1=data_G.quantile(0.25)\n",
    "Q3=data_G.quantile(0.75)\n",
    "IQR=Q3-Q1\n",
    "\n",
    "lower_bound=Q1- 1.5*IQR\n",
    "upper_bound=Q3+1.5*IQR\n",
    "print(\"lower bound is\" + str(lower_bound))\n",
    "print(\"upper bound is\" + str(upper_bound))\n",
    "print(Q1)\n",
    "print(Q3)"
   ]
  },
  {
   "cell_type": "code",
   "execution_count": 102,
   "id": "7114410d",
   "metadata": {},
   "outputs": [
    {
     "data": {
      "text/plain": [
       "<AxesSubplot:xlabel='GS'>"
      ]
     },
     "execution_count": 102,
     "metadata": {},
     "output_type": "execute_result"
    },
    {
     "data": {
      "image/png": "[encoded data removed]",
      "text/plain": [
       "<Figure size 432x288 with 1 Axes>"
      ]
     },
     "metadata": {
      "needs_background": "light"
     },
     "output_type": "display_data"
    }
   ],
   "source": [
    "data_Gs=data['GS']\n",
    "sns.boxplot(x=data_Gs)"
   ]
  },
  {
   "cell_type": "code",
   "execution_count": 103,
   "id": "65aac919",
   "metadata": {},
   "outputs": [
    {
     "name": "stdout",
     "output_type": "stream",
     "text": [
      "lower bound is-31.5\n",
      "upper bound is52.5\n",
      "0.0\n",
      "21.0\n"
     ]
    }
   ],
   "source": [
    "Q1=data_Gs.quantile(0.25)\n",
    "Q3=data_Gs.quantile(0.75)\n",
    "IQR=Q3-Q1\n",
    "\n",
    "lower_bound=Q1- 1.5*IQR\n",
    "upper_bound=Q3+1.5*IQR\n",
    "print(\"lower bound is\" + str(lower_bound))\n",
    "print(\"upper bound is\" + str(upper_bound))\n",
    "print(Q1)\n",
    "print(Q3)"
   ]
  },
  {
   "cell_type": "code",
   "execution_count": 104,
   "id": "b1f4d6c9",
   "metadata": {},
   "outputs": [
    {
     "data": {
      "text/plain": [
       "<AxesSubplot:xlabel='MP'>"
      ]
     },
     "execution_count": 104,
     "metadata": {},
     "output_type": "execute_result"
    },
    {
     "data": {
      "image/png": "[encoded data removed]",
      "text/plain": [
       "<Figure size 432x288 with 1 Axes>"
      ]
     },
     "metadata": {
      "needs_background": "light"
     },
     "output_type": "display_data"
    }
   ],
   "source": [
    "data_MP=data['MP']\n",
    "sns.boxplot(x=data_MP)"
   ]
  },
  {
   "cell_type": "code",
   "execution_count": 105,
   "id": "f74c092e",
   "metadata": {},
   "outputs": [
    {
     "name": "stdout",
     "output_type": "stream",
     "text": [
      "lower bound is-16.512500000000003\n",
      "upper bound is53.3875\n",
      "9.7\n",
      "27.175\n"
     ]
    }
   ],
   "source": [
    "Q1=data_MP.quantile(0.25)\n",
    "Q3=data_MP.quantile(0.75)\n",
    "IQR=Q3-Q1\n",
    "\n",
    "lower_bound=Q1- 1.5*IQR\n",
    "upper_bound=Q3+1.5*IQR\n",
    "print(\"lower bound is\" + str(lower_bound))\n",
    "print(\"upper bound is\" + str(upper_bound))\n",
    "print(Q1)\n",
    "print(Q3)"
   ]
  },
  {
   "cell_type": "code",
   "execution_count": 106,
   "id": "48b5beac",
   "metadata": {},
   "outputs": [
    {
     "data": {
      "text/plain": [
       "<AxesSubplot:xlabel='FG'>"
      ]
     },
     "execution_count": 106,
     "metadata": {},
     "output_type": "execute_result"
    },
    {
     "data": {
      "image/png": "[encoded data removed]",
      "text/plain": [
       "<Figure size 432x288 with 1 Axes>"
      ]
     },
     "metadata": {
      "needs_background": "light"
     },
     "output_type": "display_data"
    }
   ],
   "source": [
    "data_FG=data['FG']\n",
    "sns.boxplot(x=data_FG)"
   ]
  },
  {
   "cell_type": "code",
   "execution_count": 113,
   "id": "f1044104",
   "metadata": {},
   "outputs": [
    {
     "name": "stdout",
     "output_type": "stream",
     "text": [
      "lower bound is-3.399999999999999\n",
      "upper bound is8.599999999999998\n",
      "1.1\n",
      "4.1\n"
     ]
    }
   ],
   "source": [
    "Q1=data_FG.quantile(0.25)\n",
    "Q3=data_FG.quantile(0.75)\n",
    "IQR=Q3-Q1\n",
    "\n",
    "lower_bound=Q1- 1.5*IQR\n",
    "upper_bound=Q3+1.5*IQR\n",
    "print(\"lower bound is\" + str(lower_bound))\n",
    "print(\"upper bound is\" + str(upper_bound))\n",
    "print(Q1)\n",
    "print(Q3)"
   ]
  },
  {
   "cell_type": "code",
   "execution_count": 107,
   "id": "fcb107f9",
   "metadata": {},
   "outputs": [
    {
     "data": {
      "text/plain": [
       "<AxesSubplot:xlabel='FGA'>"
      ]
     },
     "execution_count": 107,
     "metadata": {},
     "output_type": "execute_result"
    },
    {
     "data": {
      "image/png": "[encoded data removed]",
      "text/plain": [
       "<Figure size 432x288 with 1 Axes>"
      ]
     },
     "metadata": {
      "needs_background": "light"
     },
     "output_type": "display_data"
    }
   ],
   "source": [
    "data_FGA=data['FGA']\n",
    "sns.boxplot(x=data_FGA)"
   ]
  },
  {
   "cell_type": "code",
   "execution_count": 114,
   "id": "d190cf37",
   "metadata": {},
   "outputs": [
    {
     "name": "stdout",
     "output_type": "stream",
     "text": [
      "lower bound is-6.6625\n",
      "upper bound is18.8375\n",
      "2.9\n",
      "9.275\n"
     ]
    }
   ],
   "source": [
    "Q1=data_FGA.quantile(0.25)\n",
    "Q3=data_FGA.quantile(0.75)\n",
    "IQR=Q3-Q1\n",
    "\n",
    "lower_bound=Q1- 1.5*IQR\n",
    "upper_bound=Q3+1.5*IQR\n",
    "print(\"lower bound is\" + str(lower_bound))\n",
    "print(\"upper bound is\" + str(upper_bound))\n",
    "print(Q1)\n",
    "print(Q3)"
   ]
  },
  {
   "cell_type": "code",
   "execution_count": 108,
   "id": "57974484",
   "metadata": {},
   "outputs": [
    {
     "data": {
      "text/plain": [
       "<AxesSubplot:xlabel='3P'>"
      ]
     },
     "execution_count": 108,
     "metadata": {},
     "output_type": "execute_result"
    },
    {
     "data": {
      "image/png": "[encoded data removed]",
      "text/plain": [
       "<Figure size 432x288 with 1 Axes>"
      ]
     },
     "metadata": {
      "needs_background": "light"
     },
     "output_type": "display_data"
    }
   ],
   "source": [
    "data_3P=data['3P']\n",
    "sns.boxplot(x=data_3P)"
   ]
  },
  {
   "cell_type": "code",
   "execution_count": 115,
   "id": "4d4407fc",
   "metadata": {},
   "outputs": [
    {
     "name": "stdout",
     "output_type": "stream",
     "text": [
      "lower bound is-1.8499999999999996\n",
      "upper bound is3.3499999999999996\n",
      "0.1\n",
      "1.4\n"
     ]
    }
   ],
   "source": [
    "Q1=data_3P.quantile(0.25)\n",
    "Q3=data_3P.quantile(0.75)\n",
    "IQR=Q3-Q1\n",
    "\n",
    "lower_bound=Q1- 1.5*IQR\n",
    "upper_bound=Q3+1.5*IQR\n",
    "print(\"lower bound is\" + str(lower_bound))\n",
    "print(\"upper bound is\" + str(upper_bound))\n",
    "print(Q1)\n",
    "print(Q3)"
   ]
  },
  {
   "cell_type": "code",
   "execution_count": 109,
   "id": "d1ee4641",
   "metadata": {},
   "outputs": [
    {
     "data": {
      "text/plain": [
       "<AxesSubplot:xlabel='3PA'>"
      ]
     },
     "execution_count": 109,
     "metadata": {},
     "output_type": "execute_result"
    },
    {
     "data": {
      "image/png": "[encoded data removed]",
      "text/plain": [
       "<Figure size 432x288 with 1 Axes>"
      ]
     },
     "metadata": {
      "needs_background": "light"
     },
     "output_type": "display_data"
    }
   ],
   "source": [
    "data_3PA=data['3PA']\n",
    "sns.boxplot(x=data_3PA)"
   ]
  },
  {
   "cell_type": "code",
   "execution_count": 116,
   "id": "9596ee6b",
   "metadata": {},
   "outputs": [
    {
     "name": "stdout",
     "output_type": "stream",
     "text": [
      "lower bound is-4.3999999999999995\n",
      "upper bound is9.2\n",
      "0.7\n",
      "4.1\n"
     ]
    }
   ],
   "source": [
    "Q1=data_3PA.quantile(0.25)\n",
    "Q3=data_3PA.quantile(0.75)\n",
    "IQR=Q3-Q1\n",
    "\n",
    "lower_bound=Q1- 1.5*IQR\n",
    "upper_bound=Q3+1.5*IQR\n",
    "print(\"lower bound is\" + str(lower_bound))\n",
    "print(\"upper bound is\" + str(upper_bound))\n",
    "print(Q1)\n",
    "print(Q3)"
   ]
  },
  {
   "cell_type": "code",
   "execution_count": 118,
   "id": "f73e1def",
   "metadata": {},
   "outputs": [
    {
     "data": {
      "text/plain": [
       "<AxesSubplot:xlabel='2P'>"
      ]
     },
     "execution_count": 118,
     "metadata": {},
     "output_type": "execute_result"
    },
    {
     "data": {
      "image/png": "[encoded data removed]",
      "text/plain": [
       "<Figure size 432x288 with 1 Axes>"
      ]
     },
     "metadata": {
      "needs_background": "light"
     },
     "output_type": "display_data"
    }
   ],
   "source": [
    "data_2P=data['2P']\n",
    "sns.boxplot(x=data_2P)"
   ]
  },
  {
   "cell_type": "code",
   "execution_count": 119,
   "id": "535f7881",
   "metadata": {},
   "outputs": [
    {
     "name": "stdout",
     "output_type": "stream",
     "text": [
      "lower bound is-2.4499999999999993\n",
      "upper bound is5.949999999999999\n",
      "0.7\n",
      "2.8\n"
     ]
    }
   ],
   "source": [
    "Q1=data_2P.quantile(0.25)\n",
    "Q3=data_2P.quantile(0.75)\n",
    "IQR=Q3-Q1\n",
    "\n",
    "lower_bound=Q1- 1.5*IQR\n",
    "upper_bound=Q3+1.5*IQR\n",
    "print(\"lower bound is\" + str(lower_bound))\n",
    "print(\"upper bound is\" + str(upper_bound))\n",
    "print(Q1)\n",
    "print(Q3)"
   ]
  },
  {
   "cell_type": "code",
   "execution_count": 120,
   "id": "e70ca5e2",
   "metadata": {},
   "outputs": [
    {
     "data": {
      "text/plain": [
       "<AxesSubplot:xlabel='2PA'>"
      ]
     },
     "execution_count": 120,
     "metadata": {},
     "output_type": "execute_result"
    },
    {
     "data": {
      "image/png": "[encoded data removed]",
      "text/plain": [
       "<Figure size 432x288 with 1 Axes>"
      ]
     },
     "metadata": {
      "needs_background": "light"
     },
     "output_type": "display_data"
    }
   ],
   "source": [
    "data_2PA=data['2PA']\n",
    "sns.boxplot(x=data_2PA)"
   ]
  },
  {
   "cell_type": "code",
   "execution_count": 121,
   "id": "d366f89e",
   "metadata": {},
   "outputs": [
    {
     "name": "stdout",
     "output_type": "stream",
     "text": [
      "lower bound is-4.300000000000001\n",
      "upper bound is10.9\n",
      "1.4\n",
      "5.2\n"
     ]
    }
   ],
   "source": [
    "Q1=data_2PA.quantile(0.25)\n",
    "Q3=data_2PA.quantile(0.75)\n",
    "IQR=Q3-Q1\n",
    "\n",
    "lower_bound=Q1- 1.5*IQR\n",
    "upper_bound=Q3+1.5*IQR\n",
    "print(\"lower bound is\" + str(lower_bound))\n",
    "print(\"upper bound is\" + str(upper_bound))\n",
    "print(Q1)\n",
    "print(Q3)"
   ]
  },
  {
   "cell_type": "code",
   "execution_count": 112,
   "id": "ab360230",
   "metadata": {},
   "outputs": [
    {
     "data": {
      "text/plain": [
       "<AxesSubplot:xlabel='FT'>"
      ]
     },
     "execution_count": 112,
     "metadata": {},
     "output_type": "execute_result"
    },
    {
     "data": {
      "image/png": "[encoded data removed]",
      "text/plain": [
       "<Figure size 432x288 with 1 Axes>"
      ]
     },
     "metadata": {
      "needs_background": "light"
     },
     "output_type": "display_data"
    }
   ],
   "source": [
    "data_FT=data['FT']\n",
    "sns.boxplot(x=data_FT)"
   ]
  },
  {
   "cell_type": "code",
   "execution_count": 122,
   "id": "e000bde2",
   "metadata": {},
   "outputs": [
    {
     "name": "stdout",
     "output_type": "stream",
     "text": [
      "lower bound is-1.6125\n",
      "upper bound is3.4875000000000003\n",
      "0.3\n",
      "1.5750000000000002\n"
     ]
    }
   ],
   "source": [
    "Q1=data_FT.quantile(0.25)\n",
    "Q3=data_FT.quantile(0.75)\n",
    "IQR=Q3-Q1\n",
    "\n",
    "lower_bound=Q1- 1.5*IQR\n",
    "upper_bound=Q3+1.5*IQR\n",
    "print(\"lower bound is\" + str(lower_bound))\n",
    "print(\"upper bound is\" + str(upper_bound))\n",
    "print(Q1)\n",
    "print(Q3)"
   ]
  },
  {
   "cell_type": "markdown",
   "id": "88e2ae1b",
   "metadata": {},
   "source": [
    "# Adım 4 \n",
    "\n",
    "## Veri Setinin Bağımlı ve Bağımsız Değişkenler Olarak Ayrılması:"
   ]
  },
  {
   "cell_type": "code",
   "execution_count": 80,
   "id": "e1554d1f",
   "metadata": {},
   "outputs": [],
   "source": []
  },
  {
   "cell_type": "code",
   "execution_count": 82,
   "id": "994e69a3",
   "metadata": {},
   "outputs": [],
   "source": [
    "df = data.copy()\n",
    "y = data[\"Pos\"]\n",
    "X = data.drop(['Pos'], axis=1)"
   ]
  },
  {
   "cell_type": "markdown",
   "id": "9e8ed35d",
   "metadata": {},
   "source": [
    "# Adım 5\n",
    "\n",
    "## Veri Ölçekleme\n",
    "\n",
    "### Bu kısımda verimize standartlaştırma işlemi yaptık."
   ]
  },
  {
   "cell_type": "code",
   "execution_count": 123,
   "id": "62b2445c",
   "metadata": {},
   "outputs": [],
   "source": [
    "scaler = StandardScaler()"
   ]
  },
  {
   "cell_type": "code",
   "execution_count": 83,
   "id": "204e6d04",
   "metadata": {},
   "outputs": [],
   "source": [
    "scaler.fit(X)\n",
    "X = scaler.transform(X)"
   ]
  },
  {
   "cell_type": "markdown",
   "id": "b354524a",
   "metadata": {},
   "source": [
    "# Adım 6\n",
    "\n",
    "## Veri Setini Test ve Train olarak ayırma:"
   ]
  },
  {
   "cell_type": "code",
   "execution_count": 84,
   "id": "28134f59",
   "metadata": {},
   "outputs": [],
   "source": [
    "X = pd.DataFrame(X)\n",
    "X_train, X_test, y_train, y_test = train_test_split(X, y, \n",
    "                                                    test_size=0.30, \n",
    "                                                    random_state=0)"
   ]
  },
  {
   "cell_type": "markdown",
   "id": "4a1aee32",
   "metadata": {},
   "source": [
    "# Adım 7\n",
    "\n",
    "## Algoritmaların Uygulanması:\n",
    "\n",
    "### Artık algoritmaları uygulayabiliriz.Bu kısımda veri setimize decision tree,random forest ve adaboost algoritmalarını uygulayacağız.Algoritmaları accuracy score larına göre kıyasalayacağız.Ardından bütün algoritmalara 10 katlamalı çapraz doğrulama uygulayayıp tekrar bir accuracy score değeri hesaplayacağız."
   ]
  },
  {
   "cell_type": "markdown",
   "id": "305a6ea6",
   "metadata": {},
   "source": [
    "## Decision Tree Algoritması:\n",
    "#### Bu algoritmada paremetre olarak max_depth kullandım.Bu parametre için çeşitli denemeler yaptım.7,8,9,10,11,12,13,15,20 hepsini tek tek denedim.Accuracy score olarak en yüksek değeri 20 de elde ettim o yüzden onu tercih ettim."
   ]
  },
  {
   "cell_type": "code",
   "execution_count": 89,
   "id": "45c7422c",
   "metadata": {},
   "outputs": [
    {
     "data": {
      "text/plain": [
       "0.3898305084745763"
      ]
     },
     "execution_count": 89,
     "metadata": {},
     "output_type": "execute_result"
    }
   ],
   "source": [
    "from sklearn.tree import DecisionTreeClassifier\n",
    "dtc = DecisionTreeClassifier(criterion = 'entropy',max_depth=20)\n",
    "\n",
    "dtc.fit(X_train,y_train)\n",
    "y_pred = dtc.predict(X_test)\n",
    "accuracy_score(y_test, y_pred)"
   ]
  },
  {
   "cell_type": "markdown",
   "id": "ccf2d8fe",
   "metadata": {},
   "source": [
    "## Çapraz Doğrulama Uygulaması:\n",
    "\n",
    "#### Ardından 10  katlamalı çapraz doğrulama uyguladım .Bu uygulamadan sonra da önceki değere yakın bir değer elde ettim."
   ]
  },
  {
   "cell_type": "code",
   "execution_count": 90,
   "id": "e1a6ed94",
   "metadata": {},
   "outputs": [
    {
     "name": "stdout",
     "output_type": "stream",
     "text": [
      "0.3749128919860627\n",
      "0.07262772539463398\n"
     ]
    }
   ],
   "source": [
    "from sklearn.model_selection import cross_val_score\n",
    "\n",
    "basari = cross_val_score(estimator = dtc , X=X_train, y=y_train , cv = 10)\n",
    "print(basari.mean())\n",
    "print(basari.std())"
   ]
  },
  {
   "cell_type": "markdown",
   "id": "b3dbe752",
   "metadata": {},
   "source": [
    "## Random Forest Algoritması:\n",
    "#### Bu algoritmda ağaç sayısını paremetre olarak seçtim 10 ile 20 arasında çeşitli sayılar denedim .Gözlemlerime göre ağaç sayısını artırdıkça modelin doğruluk skorunda artış olmadığı yöndeydi o yüzden 14 ü seçtim."
   ]
  },
  {
   "cell_type": "code",
   "execution_count": 91,
   "id": "a67dbfc6",
   "metadata": {},
   "outputs": [
    {
     "data": {
      "text/plain": [
       "0.4519774011299435"
      ]
     },
     "execution_count": 91,
     "metadata": {},
     "output_type": "execute_result"
    }
   ],
   "source": [
    "from sklearn.ensemble import RandomForestClassifier\n",
    "rfc = RandomForestClassifier(n_estimators=15, criterion = 'entropy')\n",
    "rfc.fit(X_train,y_train)\n",
    "\n",
    "y_pred = rfc.predict(X_test)\n",
    "accuracy_score(y_test, y_pred)"
   ]
  },
  {
   "cell_type": "markdown",
   "id": "d7be9e6c",
   "metadata": {},
   "source": [
    "## Çapraz Doğrulama Uygulaması:\n",
    "\n",
    "#### Ardından 10  katlamalı çapraz doğrulama uyguladım .Bu uygulamadan sonra da önceki değere yakın bir değer elde ettim bu modelin doğruluğu için önemliydi."
   ]
  },
  {
   "cell_type": "code",
   "execution_count": 92,
   "id": "97e3b997",
   "metadata": {},
   "outputs": [
    {
     "name": "stdout",
     "output_type": "stream",
     "text": [
      "0.4041811846689895\n",
      "0.07090304584465863\n"
     ]
    }
   ],
   "source": [
    "from sklearn.model_selection import cross_val_score\n",
    "\n",
    "basari = cross_val_score(estimator = rfc , X=X_train, y=y_train , cv = 10)\n",
    "print(basari.mean())\n",
    "print(basari.std())"
   ]
  },
  {
   "cell_type": "markdown",
   "id": "4e2ecc99",
   "metadata": {},
   "source": [
    "## Adaboost Algoritması:\n",
    "\n",
    "#### Bu algoritmada ağaç sayısını parametre olarak seçtim . Çeşitli denemeler yaptıktan sonra 15 te karar kıldım."
   ]
  },
  {
   "cell_type": "code",
   "execution_count": 93,
   "id": "895367d3",
   "metadata": {},
   "outputs": [
    {
     "data": {
      "text/plain": [
       "0.4519774011299435"
      ]
     },
     "execution_count": 93,
     "metadata": {},
     "output_type": "execute_result"
    }
   ],
   "source": [
    "ad = AdaBoostClassifier(DecisionTreeClassifier(), n_estimators=15)\n",
    "ad.fit(X_train,y_train)\n",
    "y_pred = ad.predict(X_test)\n",
    "accuracy_score(y_test, y_pred)"
   ]
  },
  {
   "cell_type": "markdown",
   "id": "54fa84aa",
   "metadata": {},
   "source": [
    "## Çapraz Doğrulama Uygulaması:\n",
    "\n",
    "#### Ardından 10  katlamalı çapraz doğrulama uyguladım ."
   ]
  },
  {
   "cell_type": "code",
   "execution_count": 94,
   "id": "91477084",
   "metadata": {},
   "outputs": [
    {
     "name": "stdout",
     "output_type": "stream",
     "text": [
      "0.41660859465737515\n",
      "0.07758742091018664\n"
     ]
    }
   ],
   "source": [
    "basari = cross_val_score(estimator = ad , X=X_train, y=y_train , cv = 10)\n",
    "print(basari.mean())\n",
    "print(basari.std())"
   ]
  },
  {
   "cell_type": "markdown",
   "id": "4e4bebea",
   "metadata": {},
   "source": [
    "# ADIM 8\n",
    "\n",
    "## PCA UYGULAMASI\n",
    "\n",
    "#### Türkçesi “Temel Bileşenler Analizi” olan PCA tanıma, sınıflandırma, görüntü sıkıştırma alanlarında kullanılan yararlı bir istatistiksel tekniktir. Temel amacı yüksek boyutlu verilerde en yüksek varyans ile veri setini tutmak ancak bunu yaparken boyut indirgemeyi sağlamak olan bir tekniktir. Fazla boyutlu verilerdeki genel özellikleri bularak boyut sayısının azaltılmasını, verinin sıkıştırılmasını sağlar. Boyut azalmasıyla bazı özelliklerin kaybedileceği kesindir; fakat amaçlanan, bu kaybolan özelliklerin popülasyon hakkında çok az bilgi içeriyor olmasıdır. Bu yöntem, yüksek korelasyonlu değişkenleri bir araya getirerek, verilerdeki en çok varyasyonu oluşturan “temel bileşenler” olarak adlandırılan daha az sayıda yapay değişken kümesi oluşturur.\n",
    "\n",
    "## Import Edilmesi ve Fit edilmesi:"
   ]
  },
  {
   "cell_type": "code",
   "execution_count": 124,
   "id": "ecd8243c",
   "metadata": {},
   "outputs": [],
   "source": [
    "from sklearn.decomposition import PCA\n",
    "pca = PCA(n_components = 7)\n",
    "\n",
    "X_train2 = pca.fit_transform(X_train)\n",
    "X_test2 = pca.transform(X_test)"
   ]
  },
  {
   "cell_type": "markdown",
   "id": "ce4fed28",
   "metadata": {},
   "source": [
    "## Decision Tree Algoritması(PCA'lı)"
   ]
  },
  {
   "cell_type": "code",
   "execution_count": 128,
   "id": "878e991e",
   "metadata": {},
   "outputs": [
    {
     "data": {
      "text/plain": [
       "0.3615819209039548"
      ]
     },
     "execution_count": 128,
     "metadata": {},
     "output_type": "execute_result"
    }
   ],
   "source": [
    "from sklearn.tree import DecisionTreeClassifier\n",
    "dtc = DecisionTreeClassifier(criterion = 'entropy',max_depth=10)\n",
    "\n",
    "dtc.fit(X_train2,y_train)\n",
    "y_pred = dtc.predict(X_test2)\n",
    "accuracy_score(y_test, y_pred)"
   ]
  },
  {
   "cell_type": "markdown",
   "id": "4d7f8b99",
   "metadata": {},
   "source": [
    "## Çapraz Doğrulama Uygulaması:\n",
    "#### Ardından 10 katlamalı çapraz doğrulama uyguladım .Önceki değere yakın bir accuracy score elde ettim."
   ]
  },
  {
   "cell_type": "code",
   "execution_count": 129,
   "id": "450a117a",
   "metadata": {},
   "outputs": [
    {
     "name": "stdout",
     "output_type": "stream",
     "text": [
      "0.428513356562137\n",
      "0.05018674968200254\n"
     ]
    }
   ],
   "source": [
    "from sklearn.model_selection import cross_val_score\n",
    "\n",
    "basari = cross_val_score(estimator =dtc , X=X_train2, y=y_train , cv = 10)\n",
    "print(basari.mean())\n",
    "print(basari.std())"
   ]
  },
  {
   "cell_type": "markdown",
   "id": "c249679d",
   "metadata": {},
   "source": [
    "## Random Forest Algoritması(PCA'Lı)"
   ]
  },
  {
   "cell_type": "code",
   "execution_count": 130,
   "id": "91279fad",
   "metadata": {},
   "outputs": [
    {
     "data": {
      "text/plain": [
       "0.4406779661016949"
      ]
     },
     "execution_count": 130,
     "metadata": {},
     "output_type": "execute_result"
    }
   ],
   "source": [
    "rfc = RandomForestClassifier(n_estimators=14, criterion = 'entropy')\n",
    "rfc.fit(X_train2,y_train)\n",
    "\n",
    "y_pred = rfc.predict(X_test2)\n",
    "accuracy_score(y_test, y_pred)"
   ]
  },
  {
   "cell_type": "markdown",
   "id": "57250e7a",
   "metadata": {},
   "source": [
    "## Çapraz Doğrulama Uygulaması:\n",
    "### Ardından 10 katlamalı çapraz doğrulama uyguladım ."
   ]
  },
  {
   "cell_type": "code",
   "execution_count": 131,
   "id": "54647e75",
   "metadata": {},
   "outputs": [
    {
     "name": "stdout",
     "output_type": "stream",
     "text": [
      "0.4408246225319396\n",
      "0.04828536541099839\n"
     ]
    }
   ],
   "source": [
    "basari = cross_val_score(estimator =rfc , X=X_train2, y=y_train , cv = 10)\n",
    "print(basari.mean())\n",
    "print(basari.std())"
   ]
  },
  {
   "cell_type": "markdown",
   "id": "6ff25c4b",
   "metadata": {},
   "source": [
    "## Adaboost algoritması(PCA'LI)"
   ]
  },
  {
   "cell_type": "code",
   "execution_count": 132,
   "id": "dfc0d8b0",
   "metadata": {},
   "outputs": [
    {
     "data": {
      "text/plain": [
       "0.3785310734463277"
      ]
     },
     "execution_count": 132,
     "metadata": {},
     "output_type": "execute_result"
    }
   ],
   "source": [
    "ad = AdaBoostClassifier(DecisionTreeClassifier(), n_estimators=15)\n",
    "ad.fit(X_train2,y_train)\n",
    "y_pred = ad.predict(X_test2)\n",
    "accuracy_score(y_test, y_pred)"
   ]
  },
  {
   "cell_type": "markdown",
   "id": "0e000bfd",
   "metadata": {},
   "source": [
    "## Çapraz Doğrulama Uygulaması:\n",
    "#### Ardından 10 katlamalı çapraz doğrulama uyguladım ."
   ]
  },
  {
   "cell_type": "code",
   "execution_count": 133,
   "id": "47834dc8",
   "metadata": {},
   "outputs": [
    {
     "name": "stdout",
     "output_type": "stream",
     "text": [
      "0.421602787456446\n",
      "0.08207816523274222\n"
     ]
    }
   ],
   "source": [
    "from sklearn.model_selection import cross_val_score\n",
    "\n",
    "basari = cross_val_score(estimator = ad, X=X_train2, y=y_train , cv = 10)\n",
    "print(basari.mean())\n",
    "print(basari.std())"
   ]
  },
  {
   "cell_type": "code",
   "execution_count": null,
   "id": "fe2d51c6",
   "metadata": {},
   "outputs": [],
   "source": []
  }
 ],
 "metadata": {
  "kernelspec": {
   "display_name": "Python 3 (ipykernel)",
   "language": "python",
   "name": "python3"
  },
  "language_info": {
   "codemirror_mode": {
    "name": "ipython",
    "version": 3
   },
   "file_extension": ".py",
   "mimetype": "text/x-python",
   "name": "python",
   "nbconvert_exporter": "python",
   "pygments_lexer": "ipython3",
   "version": "3.9.7"
  }
 },
 "nbformat": 4,
 "nbformat_minor": 5
}
